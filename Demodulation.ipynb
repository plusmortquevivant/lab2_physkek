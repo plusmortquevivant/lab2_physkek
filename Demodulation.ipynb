{
 "cells": [
  {
   "cell_type": "markdown",
   "metadata": {},
   "source": [
    "# 1. Демодуляция сигнала"
   ]
  },
  {
   "cell_type": "code",
   "execution_count": 4,
   "metadata": {},
   "outputs": [],
   "source": [
    "import scipy.io.wavfile as wav\n",
    "import scipy.signal as signal\n",
    "import scipy.fft\n",
    "import numpy as np\n",
    "import matplotlib.pyplot as plt\n",
    "import statistics\n",
    "import math\n",
    "from PIL import Image\n",
    "from copy import copy"
   ]
  },
  {
   "cell_type": "code",
   "execution_count": 5,
   "metadata": {},
   "outputs": [
    {
     "name": "stderr",
     "output_type": "stream",
     "text": [
      "<ipython-input-5-39b395710303>:25: WavFileWarning: Reached EOF prematurely; finished at 14860332 bytes, expected 14860337 bytes from header.\n",
      "  fs, data = wav.read('signal.wav')\n"
     ]
    },
    {
     "name": "stdout",
     "output_type": "stream",
     "text": [
      "Line saved 0 of 1347\n",
      "Line saved 50 of 1347\n",
      "Line saved 100 of 1347\n",
      "Line saved 150 of 1347\n",
      "Line saved 200 of 1347\n",
      "Line saved 250 of 1347\n",
      "Line saved 300 of 1347\n",
      "Line saved 350 of 1347\n",
      "Line saved 400 of 1347\n",
      "Line saved 450 of 1347\n",
      "Line saved 500 of 1347\n",
      "Line saved 550 of 1347\n",
      "Line saved 600 of 1347\n",
      "Line saved 650 of 1347\n",
      "Line saved 700 of 1347\n",
      "Line saved 750 of 1347\n",
      "Line saved 800 of 1347\n",
      "Line saved 850 of 1347\n",
      "Line saved 900 of 1347\n",
      "Line saved 950 of 1347\n",
      "Line saved 1000 of 1347\n",
      "Line saved 1050 of 1347\n",
      "Line saved 1100 of 1347\n",
      "Line saved 1150 of 1347\n",
      "Line saved 1200 of 1347\n",
      "Line saved 1250 of 1347\n",
      "Line saved 1300 of 1347\n"
     ]
    }
   ],
   "source": [
    "def get_ampl(t1, t2, a1, a2, w):\n",
    "    alpha = 0.0\n",
    "    a = w*(t1 - t2)/2\n",
    "    b = w*(t1 + t2)/2\n",
    "    if(a1 == 0):\n",
    "        alpha = -w*t1\n",
    "        return (a2/math.sin(w*t2 + alpha), alpha)\n",
    "    if(a2 == 0):\n",
    "        alpha = -w*t2\n",
    "        return (a1/sin(w*t1 + alpha), alpha)\n",
    "    if((a1 + a2) == 0):\n",
    "        alpha = -a\n",
    "    else:\n",
    "        if(a1 == a2):\n",
    "            alpha = -math.atan(((a1-a2)/(a1+a2))/math.tan(a)) - b - math.pi/2\n",
    "        else:\n",
    "            alpha = math.atan(((a1+a2)/(a1-a2))/(-math.tan(a+ math.pi/2))) - b\n",
    "    if(abs(a1)>abs(a2)):\n",
    "        A = a1/math.sin(w*t1 + alpha)\n",
    "    else:\n",
    "        A = a2/math.sin(w*t2 + alpha)\n",
    "    \n",
    "    return (A, alpha)\n",
    "\n",
    "fs, data = wav.read('signal.wav')\n",
    "\n",
    "data = [int(el) for el in data]\n",
    "avg = np.mean(data)\n",
    "data = [abs(el - avg) for el in data]\n",
    "\n",
    "f=4160.0\n",
    "fc = 2400.0\n",
    "\n",
    "resample = []\n",
    "i = 0 \n",
    "current_interval = 0\n",
    "stat = []\n",
    "buf = []\n",
    "\n",
    "while True:\n",
    "    if(i >= len(data)):\n",
    "        resample.append(max(buf))\n",
    "        break\n",
    "    if((((i*f/fs)-current_interval) // 1) == 0.0):\n",
    "        buf.append(data[i]) \n",
    "    else:\n",
    "        buf.sort()\n",
    "        a1 = buf[-2]\n",
    "        a2 = buf[-1]\n",
    "        t1 = (i-len(buf))/fs\n",
    "        t2 = (i-len(buf)+1)/fs\n",
    "        A = get_ampl(t1, t2, a1, a2, fc*2*math.pi)\n",
    "        stat.append(A)    \n",
    "        resample.append(abs(A[0]))\n",
    "        buf.clear()\n",
    "        buf.append(data[i])\n",
    "        current_interval += 1\n",
    "    i+=1\n",
    "  \n",
    "shift = 1.0/f # f = t / N\n",
    "t1 = [i/fs for i in range(20)]\n",
    "t2 = [i/f + shift/2.0 for i in range(10)]\n",
    "plt.plot(t1, data[0:20])\n",
    "plt.plot(t2, resample[0:10])\n",
    "for el in t2:\n",
    "    plt.plot([el+shift/2.0, el+shift/2.0], [-50, 50], '-r')\n",
    "plt.xlabel(\"Samples\")\n",
    "plt.ylabel(\"Amplitude\")\n",
    "plt.title(\"Signal\")\n",
    "plt.show()\n",
    "\n",
    "data_am1 = resample \n",
    "\n",
    "mx = max(data_am1)\n",
    "mn = min(data_am1)\n",
    "\n",
    "data_am1 = [math.ceil(255*(el-mn)/(mx-mn)) for el in data_am1]\n",
    "frame_width = int(0.5*f)\n",
    "\n",
    "w, h = frame_width, len(data_am1)//frame_width\n",
    "image = Image.new('RGB', (w, h))\n",
    "\n",
    "px, py = 0, 0\n",
    "for p in range(len(data_am1)):\n",
    "    lum = data_am1[p]\n",
    "    if lum < 0: lum = 0\n",
    "    if lum > 255: lum = 255\n",
    "    image.putpixel((px, py), (0, lum, 0))\n",
    "    px += 1\n",
    "    if px >= w:\n",
    "        if (py % 50) == 0:\n",
    "            print(f\"Line saved {py} of {h}\")\n",
    "        px = 0\n",
    "        py += 1\n",
    "        if py >= h:\n",
    "            break\n",
    "\n",
    "%matplotlib qt\n",
    "plt.imshow(image)\n",
    "plt.show()"
   ]
  },
  {
   "cell_type": "markdown",
   "metadata": {},
   "source": [
    "## 2. Нормализация данных"
   ]
  },
  {
   "cell_type": "code",
   "execution_count": 6,
   "metadata": {},
   "outputs": [],
   "source": [
    "mx = max(resample)\n",
    "mn = min(resample)\n",
    "resample = [round(255*(el-mn)/(mx-mn)) for el in resample]"
   ]
  },
  {
   "cell_type": "markdown",
   "metadata": {},
   "source": [
    "# Сделаем картинку ровной"
   ]
  },
  {
   "cell_type": "markdown",
   "metadata": {},
   "source": [
    "## 1.1 Реализуем функции для поиска синхроимпульса"
   ]
  },
  {
   "cell_type": "code",
   "execution_count": 7,
   "metadata": {},
   "outputs": [],
   "source": [
    "def scan(data, start, pattern):\n",
    "    sm = 0.0\n",
    "    for i in range(len(pattern)):\n",
    "        sm += (data[start+i] - pattern[i])**2\n",
    "    return math.sqrt(sm)\n",
    "\n",
    "def get_min_pos(arr):\n",
    "    mn = arr[0]\n",
    "    pos = 0\n",
    "    for i in range(len(arr)):\n",
    "        if(arr[i] < mn):\n",
    "            mn = arr[i]\n",
    "            pos = i\n",
    "    return pos\n",
    "\n",
    "def get_sync_pulse(data, pattern):\n",
    "    stat1 = []\n",
    "    for i in range(2080):\n",
    "        stat1.append(scan(data, i, pattern1))\n",
    "    return get_min_pos(stat1)\n"
   ]
  },
  {
   "cell_type": "markdown",
   "metadata": {},
   "source": [
    "## 1.2 Выровняем изображение"
   ]
  },
  {
   "cell_type": "code",
   "execution_count": 8,
   "metadata": {},
   "outputs": [
    {
     "name": "stdout",
     "output_type": "stream",
     "text": [
      "1.00\r"
     ]
    }
   ],
   "source": [
    "resample1 = resample\n",
    "s = '000011001100110011001100110011000000000'\n",
    "s2 = '000011100111001110011100111001110011100'\n",
    "\n",
    "pattern1 = []\n",
    "pattern2 = []\n",
    "\n",
    "for el in s:\n",
    "    pattern1.append(255*int(el)) \n",
    "for el in s2:\n",
    "    pattern2.append(255*int(el))\n",
    "img = []\n",
    "start = get_sync_pulse(resample1, pattern1)\n",
    "img = img + resample1[start:start+2080]\n",
    "start = start + 2080\n",
    "while True:\n",
    "    if(start+6000 >= len(resample1)):\n",
    "        break\n",
    "    start = start +  get_sync_pulse(resample1[start+2080:], pattern1)\n",
    "    img = img + resample1[start:start+2080]\n",
    "    start = start + 2080\n",
    "    print(\"{:.2f}\".format(float(start)/float(len(resample1))), end='\\r')\n"
   ]
  },
  {
   "cell_type": "code",
   "execution_count": 9,
   "metadata": {},
   "outputs": [
    {
     "name": "stdout",
     "output_type": "stream",
     "text": [
      "Line saved 0 of 1088\n",
      "Line saved 50 of 1088\n",
      "Line saved 100 of 1088\n",
      "Line saved 150 of 1088\n",
      "Line saved 200 of 1088\n",
      "Line saved 250 of 1088\n",
      "Line saved 300 of 1088\n",
      "Line saved 350 of 1088\n",
      "Line saved 400 of 1088\n",
      "Line saved 450 of 1088\n",
      "Line saved 500 of 1088\n",
      "Line saved 550 of 1088\n",
      "Line saved 600 of 1088\n",
      "Line saved 650 of 1088\n",
      "Line saved 700 of 1088\n",
      "Line saved 750 of 1088\n",
      "Line saved 800 of 1088\n",
      "Line saved 850 of 1088\n",
      "Line saved 900 of 1088\n",
      "Line saved 950 of 1088\n",
      "Line saved 1000 of 1088\n",
      "Line saved 1050 of 1088\n"
     ]
    }
   ],
   "source": [
    "def get_image(img, width):\n",
    "    w, h = width, len(img)//width\n",
    "    image = Image.new('RGB', (w, h))\n",
    "    \n",
    "    px, py = 0, 0\n",
    "    for p in range(len(img)):\n",
    "        lum = img[p]\n",
    "        if lum < 0: lum = 0\n",
    "        if lum > 255: lum = 255\n",
    "        image.putpixel((px, py), (0, int(lum), 0))\n",
    "        px += 1\n",
    "        if px >= w:\n",
    "            if (py % 50) == 0:\n",
    "                print(f\"Line saved {py} of {h}\")\n",
    "            px = 0\n",
    "            py += 1\n",
    "            if py >= h:\n",
    "                break\n",
    "    return image\n",
    "\n",
    "image = get_image(img, 2080)\n",
    "%matplotlib qt\n",
    "\n",
    "plt.imshow(image)\n",
    "plt.show()"
   ]
  },
  {
   "cell_type": "markdown",
   "metadata": {},
   "source": [
    "## 2.1 Выберем часть изображения так, чтобы телеметрия начиналась с начала новой полосы(выбираем диапазон, опираясь на картинку из предыдущего блока)"
   ]
  },
  {
   "cell_type": "code",
   "execution_count": 10,
   "metadata": {},
   "outputs": [
    {
     "name": "stdout",
     "output_type": "stream",
     "text": [
      "Line saved 0 of 815\n",
      "Line saved 50 of 815\n",
      "Line saved 100 of 815\n",
      "Line saved 150 of 815\n",
      "Line saved 200 of 815\n",
      "Line saved 250 of 815\n",
      "Line saved 300 of 815\n",
      "Line saved 350 of 815\n",
      "Line saved 400 of 815\n",
      "Line saved 450 of 815\n",
      "Line saved 500 of 815\n",
      "Line saved 550 of 815\n",
      "Line saved 600 of 815\n",
      "Line saved 650 of 815\n",
      "Line saved 700 of 815\n",
      "Line saved 750 of 815\n",
      "Line saved 800 of 815\n"
     ]
    }
   ],
   "source": [
    "img1 = img[273*2080:]\n",
    "image = get_image(img1, 2080)\n",
    "%matplotlib qt\n",
    "\n",
    "plt.imshow(image)\n",
    "plt.show()"
   ]
  },
  {
   "cell_type": "markdown",
   "metadata": {},
   "source": [
    "## 2.2 Выделим телеметрические данные из изображения"
   ]
  },
  {
   "cell_type": "code",
   "execution_count": 11,
   "metadata": {},
   "outputs": [],
   "source": [
    "telemetry = [[], []]\n",
    "i = 0\n",
    "while((i + 1040+995+45)<len(img1)):\n",
    "    telemetry[0] = telemetry[0] + img1[i + 995:i+995+45]\n",
    "    telemetry[1] = telemetry[1] + img1[i + 1040 + 995:i + 1040 + 995 + 45]\n",
    "    i += 2080"
   ]
  },
  {
   "cell_type": "code",
   "execution_count": 12,
   "metadata": {},
   "outputs": [
    {
     "name": "stdout",
     "output_type": "stream",
     "text": [
      "Line saved 0 of 814\n",
      "Line saved 50 of 814\n",
      "Line saved 100 of 814\n",
      "Line saved 150 of 814\n",
      "Line saved 200 of 814\n",
      "Line saved 250 of 814\n",
      "Line saved 300 of 814\n",
      "Line saved 350 of 814\n",
      "Line saved 400 of 814\n",
      "Line saved 450 of 814\n",
      "Line saved 500 of 814\n",
      "Line saved 550 of 814\n",
      "Line saved 600 of 814\n",
      "Line saved 650 of 814\n",
      "Line saved 700 of 814\n",
      "Line saved 750 of 814\n",
      "Line saved 800 of 814\n"
     ]
    }
   ],
   "source": [
    "image=get_image(telemetry[0], 45)\n",
    "%matplotlib qt\n",
    "wd = len(telemetry)//45\n",
    "plt.imshow(image)\n",
    "plt.show()"
   ]
  },
  {
   "cell_type": "markdown",
   "metadata": {},
   "source": [
    "## 2.3 Для каждого блока телеметрии найдем медиану и установим ее в качестве основного значения"
   ]
  },
  {
   "cell_type": "code",
   "execution_count": 13,
   "metadata": {},
   "outputs": [],
   "source": [
    "values = [[], []]\n",
    "for j in range(len(telemetry)):\n",
    "    for i in range(0, len(telemetry[j]), 45*8):\n",
    "        values[j].append(int(math.ceil(statistics.median(telemetry[j][i:i+45*8]))))"
   ]
  },
  {
   "cell_type": "code",
   "execution_count": 14,
   "metadata": {},
   "outputs": [],
   "source": [
    "test = [[], []]\n",
    "for i in range(len(telemetry)):\n",
    "    test[i] = copy(telemetry[i])\n",
    "for j in range(len(telemetry)):  \n",
    "    for i in range(len(test[j])-1):\n",
    "        ind = (i+1)//(45*8)\n",
    "        test[j][i] = values[j][ind]\n",
    "    "
   ]
  },
  {
   "cell_type": "code",
   "execution_count": 15,
   "metadata": {
    "scrolled": true
   },
   "outputs": [
    {
     "name": "stdout",
     "output_type": "stream",
     "text": [
      "Line saved 0 of 814\n",
      "Line saved 50 of 814\n",
      "Line saved 100 of 814\n",
      "Line saved 150 of 814\n",
      "Line saved 200 of 814\n",
      "Line saved 250 of 814\n",
      "Line saved 300 of 814\n",
      "Line saved 350 of 814\n",
      "Line saved 400 of 814\n",
      "Line saved 450 of 814\n",
      "Line saved 500 of 814\n",
      "Line saved 550 of 814\n",
      "Line saved 600 of 814\n",
      "Line saved 650 of 814\n",
      "Line saved 700 of 814\n",
      "Line saved 750 of 814\n",
      "Line saved 800 of 814\n"
     ]
    }
   ],
   "source": [
    "image=get_image(test[1], 45)\n",
    "%matplotlib qt\n",
    "wd = len(test)//45\n",
    "plt.imshow(image)\n",
    "plt.show()"
   ]
  },
  {
   "cell_type": "markdown",
   "metadata": {},
   "source": [
    "# Сохраним данные"
   ]
  },
  {
   "cell_type": "code",
   "execution_count": 16,
   "metadata": {},
   "outputs": [],
   "source": [
    "np.save(\"image\", np.array(img1))\n",
    "np.save(\"w1\", np.array(test[0]))\n",
    "np.save(\"w2\", np.array(test[1]))"
   ]
  }
 ],
 "metadata": {
  "kernelspec": {
   "display_name": "Python 3",
   "language": "python",
   "name": "python3"
  },
  "language_info": {
   "codemirror_mode": {
    "name": "ipython",
    "version": 3
   },
   "file_extension": ".py",
   "mimetype": "text/x-python",
   "name": "python",
   "nbconvert_exporter": "python",
   "pygments_lexer": "ipython3",
   "version": "3.8.3"
  }
 },
 "nbformat": 4,
 "nbformat_minor": 5
}
